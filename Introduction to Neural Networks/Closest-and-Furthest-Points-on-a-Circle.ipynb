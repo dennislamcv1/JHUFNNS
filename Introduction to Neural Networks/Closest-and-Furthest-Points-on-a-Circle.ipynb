{
 "cells": [
  {
   "cell_type": "markdown",
   "id": "b2ad4f82",
   "metadata": {},
   "source": [
    "<p align=\"center\">\n",
    "    <img src=\"JHU.png\" width=\"200\" alt=\"Johns Hopkins University logo\">\n",
    "</p>"
   ]
  },
  {
   "cell_type": "markdown",
   "id": "f0415d39",
   "metadata": {},
   "source": [
    "# Hands-On Lab: Closest and Furthest Points on a Circle\n",
    "\n",
    "Estimated time needed: **60** minutes"
   ]
  },
  {
   "cell_type": "markdown",
   "id": "ccd5a77a",
   "metadata": {},
   "source": [
    "## Overview:\n",
    "\n",
    "This lab focuses on problem-solving using mathematical foundations and Python programming. Understanding optimization, geometric relationships, and numerical computation provides a strong base for neural network concepts. This exercise involves finding the points on a circle \\( x^2 + y^2 = r^2 \\) that are closest to and furthest from a given point \\( (a, b) \\). By completing this lab, you’ll bridge foundational math with Python programming.\n",
    "\n",
    "\n",
    "\n",
    "## Objectives:\n",
    "\n",
    "By the end of this lab, you will:\n",
    "\n",
    "- Understand the relationship between geometry and optimization in neural network concepts.\n",
    "- Write Python scripts to solve optimization problems mathematically and programmatically.\n",
    "- Visualize geometric solutions using Python libraries like matplotlib."
   ]
  },
  {
   "cell_type": "markdown",
   "id": "12076a2a",
   "metadata": {},
   "source": [
    "## Dataset Used:\n",
    "\n",
    "No dataset is required for this lab. The parameters provided are:\n",
    "- \\( r \\): Radius of the circle.\n",
    "- \\( (a, b) \\): Coordinates of the given point.\n",
    "\n",
    "These inputs are defined by the user or tested with predefined values.\n"
   ]
  },
  {
   "cell_type": "markdown",
   "id": "a5cff208",
   "metadata": {},
   "source": [
    "## Assignment Tasks with Code and Explanation:"
   ]
  },
  {
   "cell_type": "markdown",
   "id": "2010445b",
   "metadata": {},
   "source": [
    "### Task 1: Install and Import Necessary Libraries"
   ]
  },
  {
   "cell_type": "markdown",
   "id": "aefbfec7",
   "metadata": {},
   "source": [
    "> **Note**: Please be patient while the required packages are being installed. This may take some time due to the multiple dependencies, but it should complete shortly."
   ]
  },
  {
   "cell_type": "code",
   "execution_count": null,
   "id": "4a52b4d5",
   "metadata": {},
   "outputs": [],
   "source": [
    "# Install all necessary libraries\n",
    "!pip install numpy matplotlib\n",
    "\n",
    "# Import necessary libraries\n",
    "import numpy as np\n",
    "import matplotlib.pyplot as plt"
   ]
  },
  {
   "cell_type": "markdown",
   "id": "5bd26fa1",
   "metadata": {},
   "source": [
    "### **Task 2: Define the Problem and Inputs**\n",
    "\n",
    "- The problem involves finding two points on the circle \\( x^2 + y^2 = r^2 \\):\n",
    "  1. The point closest to \\( (a, b) \\).\n",
    "  2. The point furthest from \\( (a, b) \\).\n",
    "\n",
    "\n",
    "**Explanation**: The closest and furthest points are determined by the distance from the given point \\( (a, b) \\) to the circle. Using vector geometry, the closest and furthest points will lie along the line passing through the circle's center and \\( (a, b) \\).\n",
    "\n",
    "**What to Enter and Why?**\n",
    "\n",
    "- Enter a positive value for the radius (e.g., 10) because the radius of a circle must be positive. \n",
    "- Enter a pair of coordinates (e.g., (3, 4)) to represent the external point for which distances need to be computed. You should input it in the form of **space-separated** values.\n",
    "\n",
    "**Example Image**:\n",
    "\n",
    "![Example Image](Inputs.png)\n",
    "\n",
    "> **Note**: You can experiment with different values for the radius r and the coordinates of the point (a,b)(a,b). Try testing with positive and negative values for aa and bb, and also vary the radius to see how it affects the closest and furthest points on the circle. This will help you understand how the geometry of the problem changes with different inputs."
   ]
  },
  {
   "cell_type": "code",
   "execution_count": 2,
   "id": "1d7ad4e1",
   "metadata": {},
   "outputs": [
    {
     "name": "stdout",
     "output_type": "stream",
     "text": [
      "Enter the radius of the circle (r): 10\n",
      "Enter the coordinates of the point (a, b): 2 3\n",
      "Circle: x^2 + y^2 = 100.0\n",
      "Point: (2.0, 3.0)\n"
     ]
    }
   ],
   "source": [
    "# Input parameters\n",
    "r = float(input(\"Enter the radius of the circle (r): \"))\n",
    "a, b = map(float, input(\"Enter the coordinates of the point (a, b): \").split())\n",
    "\n",
    "# Print the equation of the circle\n",
    "# Print the coordinates of the given point (a, b) as entered by the user.\n",
    "# Write your code here!\n",
    "\n"
   ]
  },
  {
   "cell_type": "markdown",
   "id": "3a3c55f0",
   "metadata": {},
   "source": [
    "<details>\n",
    "    <summary>Click here to view/hide the solution.</summary>\n",
    "    \n",
    "```python\n",
    "\n",
    "# Print the equation of the circle\n",
    "# Print the coordinates of the given point (a, b) as entered by the user.\n",
    "print(f\"Circle: x^2 + y^2 = {r**2}\")\n",
    "print(f\"Point: ({a}, {b})\")\n",
    "\n",
    "```\n",
    "</details>"
   ]
  },
  {
   "cell_type": "markdown",
   "id": "0b416ce5",
   "metadata": {},
   "source": [
    "### Task 3: Derive the Mathematical Solution\n",
    "\n",
    "**Explanation**:\n",
    "1. The closest and furthest points lie along the vector from the circle's center \\((0, 0)\\) to \\((a, b)\\).\n",
    "2. Normalize this vector to get the direction:\n",
    "   $$\n",
    "\\text{Direction Vector} = \\left( \\frac{a}{\\sqrt{a^2 + b^2}}, \\frac{b}{\\sqrt{a^2 + b^2}} \\right)\n",
    "$$\n",
    "3. Multiply the unit vector by \\(r\\) (circle radius) to find the closest and furthest points:\n",
    "\n",
    "    - Closest point: \n",
    "    (\n",
    "    𝑟\n",
    "    ⋅\n",
    "    Direction Vector\n",
    "    )\n",
    "    (r⋅Direction Vector)\n",
    "    - Furthest point: \n",
    "    (\n",
    "    −\n",
    "    𝑟\n",
    "    ⋅\n",
    "    Direction Vector\n",
    "    )\n",
    "    (−r⋅Direction Vector)"
   ]
  },
  {
   "cell_type": "code",
   "execution_count": null,
   "id": "b354af67",
   "metadata": {},
   "outputs": [],
   "source": [
    "# Compute the distance from the origin to the point (a, b)\n",
    "distance_to_origin = np.sqrt(a**2 + b**2)\n",
    "\n",
    "# Normalize the vector (a, b)\n",
    "unit_vector = (a / distance_to_origin, b / distance_to_origin)\n",
    "\n",
    "# Compute closest and furthest points\n",
    "# Write your code here!\n",
    "\n"
   ]
  },
  {
   "cell_type": "markdown",
   "id": "d6e062d3",
   "metadata": {},
   "source": [
    "<details>\n",
    "    <summary>Click here to view/hide the solution.</summary>\n",
    "    \n",
    "```python\n",
    "    \n",
    "# Compute closest and furthest points\n",
    "closest_point = (r * unit_vector[0], r * unit_vector[1])\n",
    "furthest_point = (-r * unit_vector[0], -r * unit_vector[1])\n",
    "\n",
    "print(f\"Closest point on the circle: {closest_point}\")\n",
    "print(f\"Furthest point on the circle: {furthest_point}\")\n",
    "    \n",
    "```\n",
    "</details>"
   ]
  },
  {
   "cell_type": "markdown",
   "id": "b5bee64b",
   "metadata": {},
   "source": [
    "### Task 4: Plot the Circle, Point, and Results\n",
    "\n",
    "**Explanation**:\n",
    "To visualize the solution:\n",
    "1. Plot the circle using its parametric equation: x=r⋅cos(θ),y=r⋅sin(θ)\n",
    "    \n",
    "2. Highlight the given point, the closest point, and the furthest point on the graph.\n",
    "\n",
    "This plot will help you visually understand the relationship between the given point (a, b) and the circle. The circle is drawn using its parametric equation, and the closest and furthest points are marked accordingly.\n"
   ]
  },
  {
   "cell_type": "code",
   "execution_count": null,
   "id": "4427f64c",
   "metadata": {},
   "outputs": [],
   "source": [
    "# Generate circle points\n",
    "theta = np.linspace(0, 2 * np.pi, 100)\n",
    "x_circle = r * np.cos(theta)\n",
    "y_circle = r * np.sin(theta)\n",
    "\n",
    "# Plot the circle\n",
    "plt.figure(figsize=(8, 8))\n",
    "plt.plot(x_circle, y_circle, label=\"Circle\", color=\"blue\")\n",
    "\n",
    "# Plot the points\n",
    "# Write your code here!\n",
    "\n",
    "\n",
    "# Add annotations\n",
    "# Write your code here!\n",
    "\n",
    "\n",
    "# Configure the plot\n",
    "# Write your code here!\n"
   ]
  },
  {
   "cell_type": "markdown",
   "id": "43ea1c75",
   "metadata": {},
   "source": [
    "<details>\n",
    "    <summary>Click here to view/hide the solution.</summary>\n",
    "    \n",
    "```python\n",
    "\n",
    "# Plot the points\n",
    "plt.scatter(a, b, color=\"red\", label=\"Given Point (a, b)\")\n",
    "plt.scatter(*closest_point, color=\"green\", label=\"Closest Point\")\n",
    "plt.scatter(*furthest_point, color=\"orange\", label=\"Furthest Point\")\n",
    "\n",
    "# Add annotations\n",
    "plt.annotate(\"Closest\", closest_point, textcoords=\"offset points\", xytext=(10, 10), ha='center')\n",
    "plt.annotate(\"Furthest\", furthest_point, textcoords=\"offset points\", xytext=(-10, -10), ha='center')\n",
    "\n",
    "# Configure the plot\n",
    "plt.axhline(0, color=\"black\", linewidth=0.5, linestyle=\"--\")\n",
    "plt.axvline(0, color=\"black\", linewidth=0.5, linestyle=\"--\")\n",
    "plt.xlabel(\"X-axis\")\n",
    "plt.ylabel(\"Y-axis\")\n",
    "plt.title(\"Circle and Points Visualization\")\n",
    "plt.axis(\"equal\")\n",
    "plt.legend()\n",
    "plt.show()\n",
    "    \n",
    "```\n",
    "</details>"
   ]
  },
  {
   "cell_type": "markdown",
   "id": "6b5871e1",
   "metadata": {},
   "source": [
    "### Task 5: Verify the Results\n",
    "\n",
    "**Explanation**:\n",
    "1. Compute the distances from the given point \\( (a, b) \\) to the closest and furthest points to verify.\n",
    "2. The closest point should minimize the distance, while the furthest point should maximize it."
   ]
  },
  {
   "cell_type": "code",
   "execution_count": null,
   "id": "83ce1d61",
   "metadata": {},
   "outputs": [],
   "source": [
    "# Compute distances\n",
    "# Write your code here!\n",
    "\n",
    "\n",
    "\n"
   ]
  },
  {
   "cell_type": "markdown",
   "id": "2094245e",
   "metadata": {},
   "source": [
    "<details>\n",
    "    <summary>Click here to view/hide the solution.</summary>\n",
    "    \n",
    "```python\n",
    "    \n",
    "# Compute distances\n",
    "distance_to_closest = np.sqrt((closest_point[0] - a)**2 + (closest_point[1] - b)**2)\n",
    "distance_to_furthest = np.sqrt((furthest_point[0] - a)**2 + (furthest_point[1] - b)**2)\n",
    "\n",
    "print(f\"Distance to closest point: {distance_to_closest:.4f}\")\n",
    "print(f\"Distance to furthest point: {distance_to_furthest:.4f}\")\n",
    "    \n",
    "```\n",
    "</details>"
   ]
  },
  {
   "cell_type": "markdown",
   "id": "095f7d14",
   "metadata": {},
   "source": [
    "### Key Takeaways:\n",
    "\n",
    "- Geometric problems can be solved efficiently using mathematical reasoning and Python programming.\n",
    "- Vector normalization is a useful concept for optimization and plays a foundational role in neural networks.\n",
    "- Visualization aids in understanding solutions and debugging code."
   ]
  },
  {
   "cell_type": "markdown",
   "id": "90e5fec0",
   "metadata": {},
   "source": [
    "### Summary:\n",
    "\n",
    "In this lab, you wrote a Python script to find the closest and furthest points on a circle from a given point using vector mathematics. You also visualized the results and verified their correctness. This activity connects foundational geometry concepts to practical coding, setting the stage for deeper understanding in neural network optimization tasks."
   ]
  }
 ],
 "metadata": {
  "kernelspec": {
   "display_name": "Python 3 (ipykernel)",
   "language": "python",
   "name": "python3"
  },
  "language_info": {
   "codemirror_mode": {
    "name": "ipython",
    "version": 3
   },
   "file_extension": ".py",
   "mimetype": "text/x-python",
   "name": "python",
   "nbconvert_exporter": "python",
   "pygments_lexer": "ipython3",
   "version": "3.11.0rc1"
  }
 },
 "nbformat": 4,
 "nbformat_minor": 5
}
